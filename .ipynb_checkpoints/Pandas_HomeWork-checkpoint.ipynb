{
 "cells": [
  {
   "cell_type": "code",
   "execution_count": null,
   "metadata": {},
   "outputs": [],
   "source": [
    "import pandas as pd"
   ]
  },
  {
   "cell_type": "code",
   "execution_count": null,
   "metadata": {},
   "outputs": [],
   "source": [
    "# (1) Используя параметры read_csv из pandas прочитать файл csv UCI_Credit_Card.csv так,\n",
    "# чтобы данные были разбиты по соответствующим колонкам \n",
    "# (а не все слилось в одну)\n"
   ]
  },
  {
   "cell_type": "code",
   "execution_count": null,
   "metadata": {},
   "outputs": [],
   "source": [
    "# (2) выведите, что за типы переменных, сколько пропусков,\n",
    "# для численных значений посчитайте пару статистик (в свободной форме)\n"
   ]
  },
  {
   "cell_type": "code",
   "execution_count": 2,
   "metadata": {},
   "outputs": [
    {
     "name": "stdout",
     "output_type": "stream",
     "text": [
      "          ID  LIMIT_BAL  SEX  EDUCATION  MARRIAGE  AGE  PAY_0  PAY_2  PAY_3  \\\n",
      "0          1    20000.0    2          2         1   24      2      2     -1   \n",
      "1          2   120000.0    2          2         2   26     -1      2      0   \n",
      "2          3    90000.0    2          2         2   34      0      0      0   \n",
      "3          4    50000.0    2          2         1   37      0      0      0   \n",
      "4          5    50000.0    1          2         1   57     -1      0     -1   \n",
      "...      ...        ...  ...        ...       ...  ...    ...    ...    ...   \n",
      "29995  29996   220000.0    1          3         1   39      0      0      0   \n",
      "29996  29997   150000.0    1          3         2   43     -1     -1     -1   \n",
      "29997  29998    30000.0    1          2         2   37      4      3      2   \n",
      "29998  29999    80000.0    1          3         1   41      1     -1      0   \n",
      "29999  30000    50000.0    1          2         1   46      0      0      0   \n",
      "\n",
      "       PAY_4  ...  BILL_AMT4  BILL_AMT5  BILL_AMT6  PAY_AMT1  PAY_AMT2  \\\n",
      "0         -1  ...        0.0        0.0        0.0       0.0     689.0   \n",
      "1          0  ...     3272.0     3455.0     3261.0       0.0    1000.0   \n",
      "2          0  ...    14331.0    14948.0    15549.0    1518.0    1500.0   \n",
      "3          0  ...    28314.0    28959.0    29547.0    2000.0    2019.0   \n",
      "4          0  ...    20940.0    19146.0    19131.0    2000.0   36681.0   \n",
      "...      ...  ...        ...        ...        ...       ...       ...   \n",
      "29995      0  ...    88004.0    31237.0    15980.0    8500.0   20000.0   \n",
      "29996     -1  ...     8979.0     5190.0        0.0    1837.0    3526.0   \n",
      "29997     -1  ...    20878.0    20582.0    19357.0       0.0       0.0   \n",
      "29998      0  ...    52774.0    11855.0    48944.0   85900.0    3409.0   \n",
      "29999      0  ...    36535.0    32428.0    15313.0    2078.0    1800.0   \n",
      "\n",
      "       PAY_AMT3  PAY_AMT4  PAY_AMT5  PAY_AMT6  default.payment.next.month  \n",
      "0           0.0       0.0       0.0       0.0                           1  \n",
      "1        1000.0    1000.0       0.0    2000.0                           1  \n",
      "2        1000.0    1000.0    1000.0    5000.0                           0  \n",
      "3        1200.0    1100.0    1069.0    1000.0                           0  \n",
      "4       10000.0    9000.0     689.0     679.0                           0  \n",
      "...         ...       ...       ...       ...                         ...  \n",
      "29995    5003.0    3047.0    5000.0    1000.0                           0  \n",
      "29996    8998.0     129.0       0.0       0.0                           0  \n",
      "29997   22000.0    4200.0    2000.0    3100.0                           1  \n",
      "29998    1178.0    1926.0   52964.0    1804.0                           1  \n",
      "29999    1430.0    1000.0    1000.0    1000.0                           1  \n",
      "\n",
      "[30000 rows x 25 columns]\n"
     ]
    }
   ],
   "source": [
    "import pandas as pd\n",
    "card = pd.read_csv('UCI_Credit_Card.csv')\n",
    "print(card)"
   ]
  },
  {
   "cell_type": "code",
   "execution_count": null,
   "metadata": {},
   "outputs": [],
   "source": [
    "# (3) посчитать число женщин с университетским образованием\n",
    "# SEX (1 = male; 2 = female). \n",
    "# EDUCATION (1 = graduate school; 2 = university; 3 = high school; 4 = others).\n",
    "\n"
   ]
  },
  {
   "cell_type": "code",
   "execution_count": null,
   "metadata": {},
   "outputs": [],
   "source": [
    "# (4) Сгрупировать по \"default.payment.next.month\" и посчитать медиану для всех показателей начинающихся на BILL_ и PAY_\n",
    "#TODO\n"
   ]
  },
  {
   "cell_type": "code",
   "execution_count": null,
   "metadata": {},
   "outputs": [],
   "source": [
    "# (5) постройте сводную таблицу (pivot table) по SEX, EDUCATION, MARRIAGE\n",
    "#TODO\n"
   ]
  },
  {
   "cell_type": "code",
   "execution_count": null,
   "metadata": {},
   "outputs": [],
   "source": [
    "# (6) Создать новый строковый столбец в data frame-е, который:\n",
    "# принимает значение A, если значение LIMIT_BAL <=10000\n",
    "# принимает значение B, если значение LIMIT_BAL <=100000 и >10000\n",
    "# принимает значение C, если значение LIMIT_BAL <=200000 и >100000\n",
    "# принимает значение D, если значение LIMIT_BAL <=400000 и >200000\n",
    "# принимает значение E, если значение LIMIT_BAL <=700000 и >400000\n",
    "# принимает значение F, если значение LIMIT_BAL >700000\n",
    "\n",
    "\n"
   ]
  },
  {
   "cell_type": "markdown",
   "metadata": {},
   "source": [
    "# Бонусные задания"
   ]
  },
  {
   "cell_type": "code",
   "execution_count": null,
   "metadata": {},
   "outputs": [],
   "source": [
    "import matplotlib.pyplot as plt\n",
    "%matplotlib inline"
   ]
  },
  {
   "cell_type": "code",
   "execution_count": null,
   "metadata": {
    "scrolled": true
   },
   "outputs": [],
   "source": [
    "# (7) постироить распределение LIMIT_BAL (гистрограмму)\n",
    "import seaborn as sns"
   ]
  },
  {
   "cell_type": "code",
   "execution_count": null,
   "metadata": {},
   "outputs": [],
   "source": [
    " #TODO\n"
   ]
  },
  {
   "cell_type": "code",
   "execution_count": null,
   "metadata": {},
   "outputs": [],
   "source": [
    "# (8) построить среднее значение кредитного лимита для каждого вида образования \n",
    "# и для каждого пола\n",
    "# график необходимо сделать очень широким (на весь экран)\n",
    "#TODO\n"
   ]
  },
  {
   "cell_type": "code",
   "execution_count": null,
   "metadata": {},
   "outputs": [],
   "source": [
    "# (9) построить зависимость кредитного лимита и образования только для одного из полов\n",
    "\n",
    "#TODO\n"
   ]
  },
  {
   "cell_type": "code",
   "execution_count": null,
   "metadata": {},
   "outputs": [],
   "source": [
    "# (10) построить большой график (подсказка - используя seaborn) для построения завимисости всех возможных пар параметров\n",
    "# разным цветом выделить разные значение \"default payment next month\"\n",
    "# (но так как столбцов много - картинка может получиться \"монструозной\")\n",
    "# (поэкспериментируйте над тем как построить подобное сравнение параметров)\n",
    "# (подсказка - ответ может состоять из несколькольких графиков)\n",
    "# (если не выйдет - программа минимум - построить один график со всеми параметрами)\n",
    "import seaborn\n",
    "\n",
    "#TODO\n",
    "\n"
   ]
  }
 ],
 "metadata": {
  "kernelspec": {
   "display_name": "Python 3",
   "language": "python",
   "name": "python3"
  },
  "language_info": {
   "codemirror_mode": {
    "name": "ipython",
    "version": 3
   },
   "file_extension": ".py",
   "mimetype": "text/x-python",
   "name": "python",
   "nbconvert_exporter": "python",
   "pygments_lexer": "ipython3",
   "version": "3.8.3"
  },
  "varInspector": {
   "cols": {
    "lenName": 16,
    "lenType": 16,
    "lenVar": 40
   },
   "kernels_config": {
    "python": {
     "delete_cmd_postfix": "",
     "delete_cmd_prefix": "del ",
     "library": "var_list.py",
     "varRefreshCmd": "print(var_dic_list())"
    },
    "r": {
     "delete_cmd_postfix": ") ",
     "delete_cmd_prefix": "rm(",
     "library": "var_list.r",
     "varRefreshCmd": "cat(var_dic_list()) "
    }
   },
   "types_to_exclude": [
    "module",
    "function",
    "builtin_function_or_method",
    "instance",
    "_Feature"
   ],
   "window_display": false
  }
 },
 "nbformat": 4,
 "nbformat_minor": 2
}
